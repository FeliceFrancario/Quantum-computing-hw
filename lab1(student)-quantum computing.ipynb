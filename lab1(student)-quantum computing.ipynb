{
 "cells": [
  {
   "cell_type": "markdown",
   "metadata": {
    "id": "aHupZPGASVFV"
   },
   "source": [
    "# Lab 1: Single-qubit and multi-qubit states and Quantum Fourier Transform"
   ]
  },
  {
   "cell_type": "markdown",
   "metadata": {
    "id": "ZPnb3lJHSVFV"
   },
   "source": [
    "In this lab, you will learn how to write `Qiskit` code and investigate single-qubit and multi-qubit states.\n",
    "\n",
    "If you have not used Jupyter notebooks before, take a look at the following video to quickly get started.\n",
    "- https://www.youtube.com/watch?v=jZ952vChhuI\n",
    "\n",
    "Remember, to run a cell in Jupyter notebooks, you press `Shift` + `Return/Enter` on your keyboard."
   ]
  },
  {
   "cell_type": "markdown",
   "metadata": {
    "id": "DpowalUaSVFV"
   },
   "source": [
    "## Installing necessary packages"
   ]
  },
  {
   "cell_type": "markdown",
   "metadata": {
    "id": "9JBkEkoZSVFW"
   },
   "source": [
    "Before we begin, you will need to install some prerequisites into your environment. Run the cell below to complete these installations. At the end, the cell outputs will be cleared."
   ]
  },
  {
   "cell_type": "code",
   "execution_count": null,
   "metadata": {
    "id": "tGjgXUewSVFW"
   },
   "outputs": [],
   "source": [
    "!pip install qiskit\n",
    "!pip install qiskit_aer\n",
    "!pip install qiskit_algorithms\n",
    "!pip install pylatexenc\n",
    "!pip install matplotlib\n",
    "!pip install seaborn\n",
    "from IPython.display import clear_output\n",
    "clear_output()"
   ]
  },
  {
   "cell_type": "markdown",
   "metadata": {
    "id": "04y5jWzfSVFX"
   },
   "source": [
    "# Quantum states"
   ]
  },
  {
   "cell_type": "markdown",
   "metadata": {
    "id": "JWGmXe5-SVFY"
   },
   "source": [
    "## Single-qubit states\n",
    "We learned that single qubit states can be written down generally as\n",
    "$$\\alpha_0 \\vert0\\rangle + \\alpha_1 \\vert1\\rangle.$$\n",
    "\n",
    "Using what we know about quantum states, this can be rewritten (why?) as:\n",
    "\n",
    "$$\\sqrt{1-p}\\vert0\\rangle + e^{i\\phi}\\sqrt{p}\\vert1\\rangle$$\n",
    "\n",
    "Here, $p$ is the probability that a measurement of the state in the computational basis $\\{\\vert0\\rangle, \\vert1\\rangle\\}$ will have the outcome $1$, and $\\phi$ is the phase between the two computational basis states.\n",
    "\n",
    "Single-qubit gates can then be used to manipulate this quantum state by changing either $p$, $\\phi$, or both.\n",
    "\n",
    "Let's begin by creating a single-qubit quantum circuit. We can do this in `Qiskit` using the following:"
   ]
  },
  {
   "cell_type": "code",
   "execution_count": null,
   "metadata": {
    "colab": {
     "base_uri": "https://localhost:8080/",
     "height": 127
    },
    "id": "ZlGAZLXiSVFY",
    "outputId": "785071e1-d5c1-404c-f69a-432d00616b78"
   },
   "outputs": [],
   "source": [
    "from qiskit import QuantumCircuit\n",
    "from qiskit import *\n",
    "import numpy as np\n",
    "\n",
    "mycircuit = QuantumCircuit(1)\n",
    "mycircuit.draw('mpl')"
   ]
  },
  {
   "cell_type": "markdown",
   "metadata": {
    "id": "KeMmqO-9SVFZ"
   },
   "source": [
    "The above quantum circuit does not contain any gates. Therefore, if you start in any state, say $\\vert0\\rangle$, applying this circuit to your state doesn't change the state.\n",
    "\n",
    "To see this clearly, let's create the statevector $\\vert0\\rangle$. In `Qiskit`, you can do this using the following:"
   ]
  },
  {
   "cell_type": "code",
   "execution_count": null,
   "metadata": {
    "id": "k9FMoh_PSVFZ"
   },
   "outputs": [],
   "source": [
    "from qiskit.quantum_info import Statevector\n",
    "\n",
    "sv = Statevector.from_label('0')"
   ]
  },
  {
   "cell_type": "markdown",
   "metadata": {
    "id": "7iy0qGjRSVFZ"
   },
   "source": [
    "You can see what's contained in the object `sv`:"
   ]
  },
  {
   "cell_type": "code",
   "execution_count": null,
   "metadata": {
    "colab": {
     "base_uri": "https://localhost:8080/"
    },
    "id": "FiHr_y9ZSVFZ",
    "outputId": "6028e5f1-263b-496f-b43d-86848cd6212f"
   },
   "outputs": [],
   "source": [
    "sv"
   ]
  },
  {
   "cell_type": "markdown",
   "metadata": {
    "id": "Vdgg9qQmSVFa"
   },
   "source": [
    "The vector itself can be found by writing"
   ]
  },
  {
   "cell_type": "code",
   "execution_count": null,
   "metadata": {
    "colab": {
     "base_uri": "https://localhost:8080/"
    },
    "id": "sQC932VHSVFa",
    "outputId": "cea9f7db-4206-4bb9-bd05-c8991a01cf6b"
   },
   "outputs": [],
   "source": [
    "sv.data"
   ]
  },
  {
   "cell_type": "markdown",
   "metadata": {
    "id": "aLf-v427SVFa"
   },
   "source": [
    "This matches what we learned in class. Recall that $$\\vert0\\rangle = \\begin{bmatrix}1\\\\0\\end{bmatrix}$$\n",
    "\n",
    "We can now apply the quantum circuit `mycircuit` to this state by using the following:"
   ]
  },
  {
   "cell_type": "code",
   "execution_count": null,
   "metadata": {
    "id": "EfrPUxgpSVFa"
   },
   "outputs": [],
   "source": [
    "new_sv = sv.evolve(mycircuit)"
   ]
  },
  {
   "cell_type": "markdown",
   "metadata": {
    "id": "hTZDV4zjSVFb"
   },
   "source": [
    "Once again, you can look at the new statevector by writing"
   ]
  },
  {
   "cell_type": "code",
   "execution_count": null,
   "metadata": {
    "colab": {
     "base_uri": "https://localhost:8080/"
    },
    "id": "SbM0BSehSVFb",
    "outputId": "e38d6b00-aa6b-4603-850c-3e625c80b66c"
   },
   "outputs": [],
   "source": [
    "new_sv"
   ]
  },
  {
   "cell_type": "markdown",
   "metadata": {
    "id": "stywHPWUSVFb"
   },
   "source": [
    "The statevector hasn't changed. You can compute the projection of `new_sv` onto `sv` by writing"
   ]
  },
  {
   "cell_type": "code",
   "execution_count": null,
   "metadata": {
    "colab": {
     "base_uri": "https://localhost:8080/"
    },
    "id": "blQVedYzSVFb",
    "outputId": "5e6d3484-9a1f-401d-b311-5ce4d97bdaef"
   },
   "outputs": [],
   "source": [
    "from qiskit.quantum_info import state_fidelity\n",
    "\n",
    "state_fidelity(sv, new_sv)"
   ]
  },
  {
   "cell_type": "markdown",
   "metadata": {
    "id": "wdLsFQvNSVFb"
   },
   "source": [
    "This computes a measure of similarity between states. For the type of states that we see here, it is the square of the absolute value of the inner product. The projection of `new_sv` onto `sv` is 1, indicating that the two states are identical. You can visualize this state using the `qsphere` by writing"
   ]
  },
  {
   "cell_type": "markdown",
   "metadata": {},
   "source": [
    "More information about fidelity: https://en.wikipedia.org/wiki/Fidelity_of_quantum_states"
   ]
  },
  {
   "cell_type": "code",
   "execution_count": null,
   "metadata": {
    "colab": {
     "base_uri": "https://localhost:8080/",
     "height": 576
    },
    "id": "UAJlkdXUSVFc",
    "outputId": "2635dcce-2c04-4fa1-cfc3-c1841da5d4d7"
   },
   "outputs": [],
   "source": [
    "from qiskit.visualization import plot_state_qsphere\n",
    "plot_state_qsphere(sv.data)"
   ]
  },
  {
   "cell_type": "markdown",
   "metadata": {},
   "source": [
    "- The `1 minute Qiskit` episode entitled `What is the qsphere?` succinctly describes the Qsphere visualization tool that we used in this lab. You can find it here: https://youtu.be/4SoK2h4a7us\n",
    "\n",
    "\n",
    "# Bloch Sphere\n",
    "\n",
    "\n",
    "$$\\cos {\\frac {\\theta }{2}} \\vert0\\rangle + e^{i\\phi}\\sin {\\frac {\\theta }{2}}\\vert1\\rangle$$\n",
    "\n",
    "https://en.wikipedia.org/wiki/Bloch_sphere"
   ]
  },
  {
   "cell_type": "code",
   "execution_count": null,
   "metadata": {},
   "outputs": [],
   "source": [
    "from qiskit.visualization import *\n",
    "plot_bloch_vector([0,0,1])"
   ]
  },
  {
   "cell_type": "code",
   "execution_count": null,
   "metadata": {},
   "outputs": [],
   "source": [
    "sv"
   ]
  },
  {
   "cell_type": "markdown",
   "metadata": {
    "id": "4cmNWGnSSVFc"
   },
   "source": [
    "Applying an $X$ gate flips the qubit from the state $\\vert0\\rangle$ to the state $\\vert1\\rangle$. To see this clearly, we will first create a single-qubit quantum circuit with the $X$ gate."
   ]
  },
  {
   "cell_type": "code",
   "execution_count": null,
   "metadata": {
    "colab": {
     "base_uri": "https://localhost:8080/",
     "height": 127
    },
    "id": "ZlCaTdshSVFc",
    "outputId": "6805f6f5-5aa6-4af8-b403-5f63fdca048f"
   },
   "outputs": [],
   "source": [
    "mycircuit = QuantumCircuit(1)\n",
    "mycircuit.x(0)\n",
    "\n",
    "mycircuit.draw('mpl')"
   ]
  },
  {
   "cell_type": "markdown",
   "metadata": {
    "id": "bMXuO5dOSVFc"
   },
   "source": [
    "Now, we can apply this circuit onto our state by writing"
   ]
  },
  {
   "cell_type": "code",
   "execution_count": null,
   "metadata": {
    "colab": {
     "base_uri": "https://localhost:8080/"
    },
    "id": "AovVpv37SVFd",
    "outputId": "6bf9a696-65b8-4e51-82a5-a65cfdeffabd"
   },
   "outputs": [],
   "source": [
    "sv = Statevector.from_label('0')\n",
    "new_sv = sv.evolve(mycircuit)\n",
    "new_sv"
   ]
  },
  {
   "cell_type": "markdown",
   "metadata": {
    "id": "R57CADW9SVFd"
   },
   "source": [
    "The statevector now corresponds to that of the state $\\vert1\\rangle$. Recall that\n",
    "\n",
    "$$\\vert1\\rangle = \\begin{bmatrix}0\\\\1\\end{bmatrix}$$"
   ]
  },
  {
   "cell_type": "markdown",
   "metadata": {
    "id": "aVN0FyIwSVFd"
   },
   "source": [
    "Now, the projection of `new_sv` onto `sv` is"
   ]
  },
  {
   "cell_type": "code",
   "execution_count": null,
   "metadata": {
    "colab": {
     "base_uri": "https://localhost:8080/"
    },
    "id": "N1qyFZsPSVFd",
    "outputId": "d3e176f0-6216-4cb8-a342-8ea7446b1d8f"
   },
   "outputs": [],
   "source": [
    "state_fidelity(new_sv, sv)"
   ]
  },
  {
   "cell_type": "markdown",
   "metadata": {
    "id": "xCV04wuFSVFe"
   },
   "source": [
    "This is not surprising. Recall that the states $\\vert0\\rangle$ and $\\vert1\\rangle$ are orthogonal. Therefore, $\\langle0\\vert1\\rangle = 0$. The state can be shown on the `qsphere` by writing"
   ]
  },
  {
   "cell_type": "code",
   "execution_count": null,
   "metadata": {
    "colab": {
     "base_uri": "https://localhost:8080/",
     "height": 576
    },
    "id": "59qj3F3KSVFe",
    "outputId": "4095cb39-38c3-403e-deea-63e57eaf951d"
   },
   "outputs": [],
   "source": [
    "plot_state_qsphere(new_sv.data)"
   ]
  },
  {
   "cell_type": "markdown",
   "metadata": {
    "id": "YU0gOU32SVFf"
   },
   "source": [
    "Similarly, we can create the state $$\\frac{1}{\\sqrt{2}}\\left(\\vert0\\rangle + \\vert1\\rangle\\right)$$\n",
    "by applying a Hadamard gate. Here is how we can create the state and visualize it in `Qiskit`:"
   ]
  },
  {
   "cell_type": "code",
   "execution_count": null,
   "metadata": {
    "colab": {
     "base_uri": "https://localhost:8080/",
     "height": 127
    },
    "id": "7Fa_K243SVFf",
    "outputId": "b4c71e18-ad4f-4be1-ef25-678b167bf44e"
   },
   "outputs": [],
   "source": [
    "sv = Statevector.from_label('0')\n",
    "mycircuit = QuantumCircuit(1)\n",
    "mycircuit.h(0)\n",
    "mycircuit.draw('mpl')"
   ]
  },
  {
   "cell_type": "code",
   "execution_count": null,
   "metadata": {
    "colab": {
     "base_uri": "https://localhost:8080/",
     "height": 612
    },
    "id": "ddZTdSOgSVFf",
    "outputId": "73949c2b-fc9a-446b-d423-e63e01e0fae2"
   },
   "outputs": [],
   "source": [
    "new_sv = sv.evolve(mycircuit)\n",
    "print(new_sv)\n",
    "plot_state_qsphere(new_sv.data)"
   ]
  },
  {
   "cell_type": "markdown",
   "metadata": {
    "id": "N-yXLNgfSVFf"
   },
   "source": [
    "We can see that the state has equal components of $\\vert0\\rangle$ and $\\vert1\\rangle$. The size of the circle is proportional to the probability of measuring each basis state in the statevector. As a result, we can see that the size of the circles is half of the size of the circles in our previous visualizations."
   ]
  },
  {
   "cell_type": "markdown",
   "metadata": {
    "id": "fvUnYWlnSVFf"
   },
   "source": [
    "Recall from lecture that we can also create other superpositions with different phase. Let's create $$\\frac{1}{\\sqrt{2}}\\left(\\vert0\\rangle - \\vert1\\rangle\\right)$$ which can be done by applying the Hadamard gate on the state $\\vert1\\rangle$."
   ]
  },
  {
   "cell_type": "code",
   "execution_count": null,
   "metadata": {
    "colab": {
     "base_uri": "https://localhost:8080/",
     "height": 612
    },
    "id": "AWIU5JAoSVFg",
    "outputId": "2627fffc-2fdc-4d17-e3f5-984eb7e65b64"
   },
   "outputs": [],
   "source": [
    "sv = Statevector.from_label('1')\n",
    "mycircuit = QuantumCircuit(1)\n",
    "mycircuit.h(0)\n",
    "\n",
    "new_sv = sv.evolve(mycircuit)\n",
    "print(new_sv)\n",
    "plot_state_qsphere(new_sv.data)"
   ]
  },
  {
   "cell_type": "markdown",
   "metadata": {
    "id": "sL1UFRjtSVFg"
   },
   "source": [
    "This time, the bottom circle, corresponding to the basis state $\\vert1\\rangle$ has a different color corresponding to the phase of $\\phi = \\pi$. This is because the coefficient of $\\vert1\\rangle$ in the state $$\\frac{1}{\\sqrt{2}}\\left(\\vert0\\rangle - \\vert1\\rangle\\right)$$ is $-1$, which is equal to $e^{i\\pi}$.\n",
    "\n",
    "Other phases can also be created by applying different gates. The $T$ and $S$ gates apply phases of $+\\pi/4$ and $+\\pi/2$, respectively."
   ]
  },
  {
   "cell_type": "markdown",
   "metadata": {
    "id": "8p0e4D_VSVFh"
   },
   "source": [
    "## Multi-qubit states\n",
    "We can also explore multi-qubit gates in `Qiskit`. We discussed states of this form:\n",
    "$$\\frac{1}{\\sqrt{2}}\\left(\\vert00\\rangle + \\vert11\\rangle\\right).$$\n",
    "This is called a `Bell state`. We have seen how it can be generated using quantum gates. We will demonstrate below how to create this state from the state $\\vert00\\rangle$. We will start by visualizing the state $\\vert00\\rangle$ using the same procedure:"
   ]
  },
  {
   "cell_type": "code",
   "execution_count": null,
   "metadata": {
    "colab": {
     "base_uri": "https://localhost:8080/",
     "height": 576
    },
    "id": "Rf-xjieRSVFh",
    "outputId": "8c3afd7d-196d-40ce-a428-4d71d949a3bf"
   },
   "outputs": [],
   "source": [
    "from qiskit.visualization import plot_bloch_multivector\n",
    "\n",
    "sv = Statevector.from_label('00')\n",
    "plot_state_qsphere(sv.data)\n",
    "\n"
   ]
  },
  {
   "cell_type": "markdown",
   "metadata": {
    "id": "jdOAUyloSVFi"
   },
   "source": [
    "Next, we use the Hadamard gate described above, along with a controlled-X gate, to create the Bell state."
   ]
  },
  {
   "cell_type": "code",
   "execution_count": null,
   "metadata": {
    "colab": {
     "base_uri": "https://localhost:8080/",
     "height": 392
    },
    "id": "8UK9Gvf_CnJK",
    "outputId": "183a0eda-7f2a-4836-8aa1-6a50679072ef"
   },
   "outputs": [],
   "source": [
    "plot_bloch_multivector(sv)"
   ]
  },
  {
   "cell_type": "code",
   "execution_count": null,
   "metadata": {
    "colab": {
     "base_uri": "https://localhost:8080/",
     "height": 191
    },
    "id": "0YI-7Q-LSVFi",
    "outputId": "673ebb78-0c30-4452-f117-03787e5d45f2"
   },
   "outputs": [],
   "source": [
    "mycircuit = QuantumCircuit(2)\n",
    "mycircuit.h(0)\n",
    "mycircuit.cx(0,1)\n",
    "mycircuit.draw('mpl')"
   ]
  },
  {
   "cell_type": "markdown",
   "metadata": {},
   "source": [
    "Note: Qiskit CX is different: https://qiskit.org/documentation/stubs/qiskit.circuit.library.CXGate.html"
   ]
  },
  {
   "cell_type": "markdown",
   "metadata": {
    "id": "dQTx1nCjSVFi"
   },
   "source": [
    "The result of this quantum circuit on the state $\\vert00\\rangle$ is found by writing"
   ]
  },
  {
   "cell_type": "code",
   "execution_count": null,
   "metadata": {
    "colab": {
     "base_uri": "https://localhost:8080/",
     "height": 629
    },
    "id": "EkBhLCaVSVFi",
    "outputId": "ccfbad9f-0151-42ea-96e5-3eaf36e82ebd"
   },
   "outputs": [],
   "source": [
    "new_sv = sv.evolve(mycircuit)\n",
    "print(new_sv)\n",
    "plot_state_qsphere(new_sv.data)"
   ]
  },
  {
   "cell_type": "markdown",
   "metadata": {
    "id": "7JNFIbiCSVFi"
   },
   "source": [
    "Following entanglement, it is no longer possible to treat the two qubits individually, and they must be considered to be one system.\n",
    "\n",
    "To see this clearly, we can see what would happen if we measured the Bell state above 1000 times."
   ]
  },
  {
   "cell_type": "code",
   "execution_count": null,
   "metadata": {
    "colab": {
     "base_uri": "https://localhost:8080/",
     "height": 461
    },
    "id": "GpMciL4CSVFj",
    "outputId": "fcbde8e7-4a49-42d5-c501-be38d95cd965"
   },
   "outputs": [],
   "source": [
    "counts = new_sv.sample_counts(shots=1000)\n",
    "\n",
    "from qiskit.visualization import plot_histogram\n",
    "plot_histogram(counts)"
   ]
  },
  {
   "cell_type": "markdown",
   "metadata": {
    "id": "bGvvN8YiSVFj"
   },
   "source": [
    "All measurements give either the result `00` or `11`. If the measurement outcome for one of the qubits is known, then the outcome for the other is fully determined."
   ]
  },
  {
   "cell_type": "markdown",
   "metadata": {
    "id": "gppV-CUcSVFj"
   },
   "source": [
    "### Exercise 1\n",
    "\n",
    "Can you create the state $$\\frac{1}{\\sqrt{2}}\\left(\\vert01\\rangle + \\vert10\\rangle\\right)$$ using a similar procedure? There are multiple circuits to do so."
   ]
  },
  {
   "cell_type": "code",
   "execution_count": null,
   "metadata": {},
   "outputs": [],
   "source": []
  },
  {
   "cell_type": "code",
   "execution_count": null,
   "metadata": {},
   "outputs": [],
   "source": []
  },
  {
   "cell_type": "markdown",
   "metadata": {
    "id": "pMGBlKwoSVFj"
   },
   "source": [
    "### Exercise 2\n",
    "\n",
    "Can you create the state $$\\frac{1}{\\sqrt{2}}\\left(\\vert01\\rangle - \\vert10\\rangle\\right)$$ using a similar procedure? There are multiple circuits to do so; you may find the following single-qubit gate, called $Z$, useful: \n",
    "$$ Z = \\begin{pmatrix} 1 & 0 \\\\ 0 & -1 \\end{pmatrix}.$$"
   ]
  },
  {
   "cell_type": "code",
   "execution_count": null,
   "metadata": {
    "cellView": "form",
    "colab": {
     "base_uri": "https://localhost:8080/",
     "height": 780
    },
    "id": "ywdhJq9eT3Zm",
    "outputId": "939b632d-65d4-4e77-8baf-1a42760b5cde"
   },
   "outputs": [],
   "source": []
  },
  {
   "cell_type": "markdown",
   "metadata": {
    "id": "b3p6bY4HX4AN"
   },
   "source": [
    "### Exercise 3\n",
    "\n",
    "Can you create the state $$\\frac{1}{\\sqrt{2}}\\left(\\vert10\\rangle - \\vert01\\rangle\\right)$$ using a similar procedure? There are multiple circuits to do so.\n",
    "\n",
    "How would you compare this state to the previous one?"
   ]
  },
  {
   "cell_type": "code",
   "execution_count": null,
   "metadata": {},
   "outputs": [],
   "source": []
  },
  {
   "cell_type": "markdown",
   "metadata": {
    "id": "XBCEtbe8SVFk"
   },
   "source": [
    "## Measurements\n",
    "In the above example, we simulated the action of a measurement by sampling counts from the statevector. A measurement can explicitly be inserted into a quantum circuit as well. Here is an example that creates the same Bell state and applies a measurement."
   ]
  },
  {
   "cell_type": "code",
   "execution_count": null,
   "metadata": {
    "colab": {
     "base_uri": "https://localhost:8080/",
     "height": 255
    },
    "id": "Eh20lB8aSVFk",
    "outputId": "fb6d3fb2-ac19-4590-d9ed-3ca130f5a175"
   },
   "outputs": [],
   "source": [
    "mycircuit = QuantumCircuit(2, 2)\n",
    "mycircuit.h(0)\n",
    "mycircuit.cx(0,1)\n",
    "mycircuit.measure([0,1], [0,1])\n",
    "mycircuit.draw('mpl')"
   ]
  },
  {
   "cell_type": "markdown",
   "metadata": {
    "id": "G1zEUdoGSVFk"
   },
   "source": [
    "Two new features appeared in the circuit compared to our previous examples.\n",
    "\n",
    "- First, note that we used a second argument in the `QuantumCircuit(2,2)` command. The second argument says that we will be creating a quantum circuit that contains two qubits (the first argument), and two classical bits (the second argument).\n",
    "- Second, note that the `measure` command takes two arguments. The first argument is the set of qubits that will be measured. The second is the set of classical bits onto which the outcomes from the measurements of the qubits will be stored."
   ]
  },
  {
   "cell_type": "markdown",
   "metadata": {
    "id": "S93HRi1dSVFk"
   },
   "source": [
    "Since the above quantum circuit contains non-unitaries (the measurement gates), we will use `Qiskit`'s built-in basic simulator to run the circuit. To get the measurement counts, we can use the following code:"
   ]
  },
  {
   "cell_type": "code",
   "execution_count": null,
   "metadata": {
    "colab": {
     "base_uri": "https://localhost:8080/",
     "height": 461
    },
    "id": "_pTbo33wSVFl",
    "outputId": "43422ed1-1bcd-473a-9e65-fbccea686759"
   },
   "outputs": [],
   "source": [
    "from qiskit.providers.basic_provider import BasicSimulator\n",
    "backend = BasicSimulator()\n",
    "result = backend.run(mycircuit, shots=10000).result()\n",
    "counts = result.get_counts(mycircuit)\n",
    "plot_histogram(counts)"
   ]
  },
  {
   "cell_type": "markdown",
   "metadata": {
    "id": "IgY0-m0oSVFl"
   },
   "source": [
    "As you can see, the measurement outcomes are similar to when we sampled counts from the statevector itself."
   ]
  },
  {
   "cell_type": "markdown",
   "metadata": {
    "id": "SMT0irQdcLcv"
   },
   "source": [
    "# Quantum Fourier Transform"
   ]
  },
  {
   "cell_type": "markdown",
   "metadata": {
    "id": "R9h73YqHeAs4"
   },
   "source": [
    "## QFT on 3 qubits\n",
    "From here on, we show some more complex circuits. We can construct Quantum Fourier Transform circuit on 3 qubits as follows, see the lecture notes for reference. The reason we use `reverse_bits` is due to this:\n",
    "[https://docs.quantum.ibm.com/build/bit-ordering](https://docs.quantum.ibm.com/build/bit-ordering)"
   ]
  },
  {
   "cell_type": "code",
   "execution_count": null,
   "metadata": {
    "colab": {
     "base_uri": "https://localhost:8080/",
     "height": 255
    },
    "id": "s8t8Jr3A4BIY",
    "outputId": "d9ebe3d4-6643-4439-c9c3-1647e818df80"
   },
   "outputs": [],
   "source": [
    "from math import pi\n",
    "qc = QuantumCircuit(3)\n",
    "\n",
    "qc.h(2)\n",
    "qc.cp(pi/2, 1, 2)\n",
    "qc.cp(pi/4, 0, 2)\n",
    "\n",
    "qc.h(1)\n",
    "qc.cp(pi/2, 0, 1) # CROT from qubit 0 to qubit 1\n",
    "qc.h(0)\n",
    "\n",
    "qc.swap(0,2)\n",
    "\n",
    "display(qc.draw('mpl',reverse_bits=True))\n"
   ]
  },
  {
   "cell_type": "markdown",
   "metadata": {
    "id": "ukaNYffe475q"
   },
   "source": [
    "## General QFT Function\n",
    "\n",
    "Now, we are going to construct a universal circuit in Qiskit for the Quantum Fourier Transform (QFT).\n",
    "To simplify the process, we will first build a circuit that applies the QFT with the qubits in reverse order and then perform a swap operation to rearrange them appropriately. Let's begin by designing the function that accurately rotates our qubits. Just like in the previous example with three qubits, we will start by correctly rotating the most significant qubit, which corresponds to the qubit with the highest index:"
   ]
  },
  {
   "cell_type": "code",
   "execution_count": null,
   "metadata": {
    "id": "GN_5ZnFJaYnI"
   },
   "outputs": [],
   "source": [
    "def qft_circuit(circuit, num_qubits):\n",
    "\n",
    "    for control in range(num_qubits - 1, -1, -1):\n",
    "\n",
    "        # Apply Hadamard gates to control qubit\n",
    "        circuit.h(control)\n",
    "\n",
    "        # Apply controlled phase shift gates\n",
    "        for target in range(control-1,-1,-1):\n",
    "            pass\n",
    "\n",
    "    # Perform the final swap operations\n",
    "    for i in range(num_qubits // 2):\n",
    "        pass\n",
    "\n",
    "    return circuit"
   ]
  },
  {
   "cell_type": "code",
   "execution_count": null,
   "metadata": {
    "cellView": "form",
    "id": "gNw1X0D46xF9"
   },
   "outputs": [],
   "source": [
    "# QFT\n",
    "def qft_circuit(circuit, num_qubits):\n",
    "\n",
    "    for control in range(num_qubits - 1, -1, -1):\n",
    "\n",
    "        # Apply Hadamard gates to control qubit\n",
    "        circuit.h(control)\n",
    "\n",
    "        # Apply controlled phase shift gates\n",
    "        for target in range(control-1,-1,-1):\n",
    "            circuit.cp(2 * np.pi / 2**(control - target + 1), control, target)\n",
    "\n",
    "    # Perform the final swap operations\n",
    "    for i in range(num_qubits // 2):\n",
    "        circuit.swap(i, num_qubits - i - 1)\n",
    "\n",
    "    return circuit"
   ]
  },
  {
   "cell_type": "code",
   "execution_count": null,
   "metadata": {
    "colab": {
     "base_uri": "https://localhost:8080/",
     "height": 311
    },
    "id": "nTkNhWTl7hG9",
    "outputId": "df772932-ddf6-465f-fcb3-079cee68ff8f"
   },
   "outputs": [],
   "source": [
    "qc = QuantumCircuit(4)\n",
    "qc = qft_circuit(qc, 4)\n",
    "display(qc.draw('mpl',reverse_bits=True))"
   ]
  },
  {
   "cell_type": "markdown",
   "metadata": {
    "id": "II1WVsFQ_eZH"
   },
   "source": [
    "## Inverse QFT on first n qubits"
   ]
  },
  {
   "cell_type": "code",
   "execution_count": null,
   "metadata": {
    "id": "_SpKMRkx-lWU"
   },
   "outputs": [],
   "source": [
    "def inverse_qft(circuit, n):\n",
    "    \"\"\"Does the inverse QFT on the first n qubits in circuit\"\"\"\n",
    "\n",
    "    # First we create a QFT circuit of the correct size:\n",
    "    qft_circ = qft_circuit(QuantumCircuit(n), n)\n",
    "\n",
    "    # Then we take the inverse of this circuit\n",
    "    inv_qft_circ = qft_circ.inverse()\n",
    "\n",
    "    # And add it to the first n qubits in our existing circuit\n",
    "    circuit.append(inv_qft_circ, circuit.qubits[:n])\n",
    "\n",
    "    return circuit.decompose() # .decompose() allows us to see the individual gates"
   ]
  },
  {
   "cell_type": "markdown",
   "metadata": {
    "id": "lQUhMOjmAEIb"
   },
   "source": [
    "# Exercise 4\n",
    "We want to show that the following circuit leads to the quantum state obtained by applying QFT on state $\\vert101\\rangle$"
   ]
  },
  {
   "cell_type": "code",
   "execution_count": null,
   "metadata": {
    "colab": {
     "base_uri": "https://localhost:8080/",
     "height": 255
    },
    "id": "OD-Ic2L_AC7P",
    "outputId": "7e56f736-4ce7-450a-c094-bffbe5b16e9d"
   },
   "outputs": [],
   "source": [
    "from math import pi\n",
    "nqubits = 3\n",
    "number = 5\n",
    "qc = QuantumCircuit(nqubits)\n",
    "\n",
    "qc.h([qubit for qubit in range(nqubits)])\n",
    "qc.p(number*pi/4,0)\n",
    "qc.p(number*pi/2,1)\n",
    "qc.p(number*pi,2)\n",
    "\n",
    "qc.draw('mpl',reverse_bits=True)\n"
   ]
  },
  {
   "cell_type": "markdown",
   "metadata": {
    "id": "TJg2MNB-BCyc"
   },
   "source": [
    "It is enough to apply inverse QFT on the quantum state. It should result in $\\vert101\\rangle$"
   ]
  },
  {
   "cell_type": "code",
   "execution_count": null,
   "metadata": {
    "colab": {
     "base_uri": "https://localhost:8080/",
     "height": 319
    },
    "id": "3uZHNO0MBBxg",
    "outputId": "c1bd5a20-d291-4715-f3a9-8a55c956db07"
   },
   "outputs": [],
   "source": [
    "qc = inverse_qft(qc, nqubits)\n",
    "qc.measure_all()\n",
    "qc.draw('mpl',reverse_bits=True)"
   ]
  },
  {
   "cell_type": "code",
   "execution_count": null,
   "metadata": {
    "colab": {
     "base_uri": "https://localhost:8080/",
     "height": 472
    },
    "id": "_ul3taCYEmzg",
    "outputId": "a7674bf0-be00-4cfd-c9ad-21342f9cf431"
   },
   "outputs": [],
   "source": [
    "from qiskit.providers.basic_provider import BasicSimulator\n",
    "backend = BasicSimulator()\n",
    "new_circuit = transpile(qc, backend)\n",
    "result = backend.run(new_circuit, shots=1000).result()\n",
    "counts = result.get_counts(qc)\n",
    "plot_histogram(counts)\n",
    "\n"
   ]
  },
  {
   "cell_type": "markdown",
   "metadata": {
    "id": "JVJIt3QjSVFo"
   },
   "source": [
    "# Additional reading\n",
    "\n",
    "- You can find more information about the QFT here: https://learn.qiskit.org/course/ch-algorithms/quantum-fourier-transform\n",
    "\n"
   ]
  },
  {
   "cell_type": "markdown",
   "metadata": {},
   "source": [
    "# Grover search\n",
    "\n",
    "- You can find more information about the QFT here: https://qiskit.org/documentation/tutorials/algorithms/06_grover.html"
   ]
  },
  {
   "cell_type": "code",
   "execution_count": null,
   "metadata": {},
   "outputs": [],
   "source": [
    "#from qiskit.algorithms import AmplificationProblem\n",
    "import qiskit_algorithms\n",
    "from qiskit_algorithms import AmplificationProblem, Grover\n",
    "\n",
    "# the state we desire to find is '11'\n",
    "good_state = ['11']\n",
    "\n",
    "# specify the oracle that marks the state '11' as a good solution\n",
    "oracle = QuantumCircuit(2)\n",
    "oracle.cz(0, 1)\n",
    "\n",
    "# define Grover's algorithm\n",
    "problem = AmplificationProblem(oracle, is_good_state=good_state)\n",
    "\n",
    "# now we can have a look at the Grover operator that is used in running the algorithm\n",
    "# (Algorithm circuits are wrapped in a gate to appear in composition as a block\n",
    "# so we have to decompose() the op to see it expanded into its component gates.)\n",
    "problem.grover_operator.decompose().draw(output='mpl',reverse_bits=True)"
   ]
  },
  {
   "cell_type": "code",
   "execution_count": null,
   "metadata": {},
   "outputs": [],
   "source": [
    "from qiskit.primitives import Sampler\n",
    "\n",
    "\n",
    "grover = Grover(sampler=Sampler())\n",
    "result = grover.amplify(problem)\n",
    "print('Result type:', type(result))\n",
    "print()\n",
    "print('Success!' if result.oracle_evaluation else 'Failure!')\n",
    "print('Top measurement:', result.top_measurement)"
   ]
  },
  {
   "cell_type": "code",
   "execution_count": null,
   "metadata": {},
   "outputs": [],
   "source": []
  }
 ],
 "metadata": {
  "colab": {
   "provenance": []
  },
  "kernelspec": {
   "display_name": "Python 3 (ipykernel)",
   "language": "python",
   "name": "python3"
  },
  "language_info": {
   "codemirror_mode": {
    "name": "ipython",
    "version": 3
   },
   "file_extension": ".py",
   "mimetype": "text/x-python",
   "name": "python",
   "nbconvert_exporter": "python",
   "pygments_lexer": "ipython3",
   "version": "3.12.2"
  }
 },
 "nbformat": 4,
 "nbformat_minor": 4
}
